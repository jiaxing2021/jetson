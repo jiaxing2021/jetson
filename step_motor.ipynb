{
 "cells": [
  {
   "cell_type": "code",
   "execution_count": 1,
   "id": "95fb8440",
   "metadata": {},
   "outputs": [],
   "source": [
    "import Jetson.GPIO as GPIO\n",
    "import time"
   ]
  },
  {
   "cell_type": "code",
   "execution_count": 2,
   "id": "e5cfba13",
   "metadata": {},
   "outputs": [],
   "source": [
    "IN1 = 29\n",
    "IN2 = 31\n",
    "IN3 = 33\n",
    "IN4 = 35\n",
    "led = 11"
   ]
  },
  {
   "cell_type": "code",
   "execution_count": 3,
   "id": "bac3aa6e",
   "metadata": {},
   "outputs": [],
   "source": [
    "GPIO.setmode(GPIO.BOARD)\n",
    "GPIO.setup(IN1, GPIO.OUT)\n",
    "GPIO.setup(IN2, GPIO.OUT)\n",
    "GPIO.setup(IN3, GPIO.OUT)\n",
    "GPIO.setup(IN4, GPIO.OUT)\n",
    "GPIO.setup(led, GPIO.OUT)"
   ]
  },
  {
   "cell_type": "code",
   "execution_count": 4,
   "id": "a196f558",
   "metadata": {},
   "outputs": [],
   "source": [
    "def set_step(h1, h2, h3, h4):\n",
    "    GPIO.output(IN1, h1)\n",
    "    GPIO.output(IN2, h2)    \n",
    "    GPIO.output(IN3, h3)    \n",
    "    GPIO.output(IN4, h4)    "
   ]
  },
  {
   "cell_type": "code",
   "execution_count": 5,
   "id": "0caef895",
   "metadata": {},
   "outputs": [],
   "source": [
    "def stop():\n",
    "    set_step(0, 0, 0, 0)\n",
    "    GPIO.output(led, 0)"
   ]
  },
  {
   "cell_type": "code",
   "execution_count": 6,
   "id": "d8d52311",
   "metadata": {},
   "outputs": [],
   "source": [
    "def forward(delay, steps):\n",
    "    for i in range(0, steps):\n",
    "        set_step(1, 0, 0, 0)\n",
    "        time.sleep(delay)\n",
    "        set_step(0, 1, 0, 0)\n",
    "        time.sleep(delay)\n",
    "        set_step(0, 0, 1, 0)\n",
    "        time.sleep(delay)\n",
    "        set_step(0, 0, 0, 1)\n",
    "        time.sleep(delay)"
   ]
  },
  {
   "cell_type": "code",
   "execution_count": 7,
   "id": "5d225cf4",
   "metadata": {},
   "outputs": [],
   "source": [
    "def backward(delay, steps):\n",
    "    for i in range(0, steps):\n",
    "        set_step(0, 0, 0, 1)\n",
    "        time.sleep(delay)\n",
    "        set_step(0, 0, 1, 0)\n",
    "        time.sleep(delay)\n",
    "        set_step(0, 1, 0, 0)\n",
    "        time.sleep(delay)\n",
    "        set_step(1, 0, 0, 0)\n",
    "        time.sleep(delay)"
   ]
  },
  {
   "cell_type": "code",
   "execution_count": 8,
   "id": "a5513a55",
   "metadata": {},
   "outputs": [],
   "source": [
    "def fun():\n",
    "    GPIO.output(led, 1)    \n",
    "    forward(0.002, 3000)\n",
    "    time.sleep(2)\n",
    "    backward(0.002, 3000)\n",
    "    time.sleep(2)\n",
    "    stop()\n",
    "    GPIO.cleanup()\n",
    "    "
   ]
  },
  {
   "cell_type": "code",
   "execution_count": 9,
   "id": "bad5ed15",
   "metadata": {},
   "outputs": [],
   "source": [
    "fun()"
   ]
  },
  {
   "cell_type": "code",
   "execution_count": null,
   "id": "c265dd75",
   "metadata": {},
   "outputs": [],
   "source": []
  }
 ],
 "metadata": {
  "kernelspec": {
   "display_name": "Python 3",
   "language": "python",
   "name": "python3"
  },
  "language_info": {
   "codemirror_mode": {
    "name": "ipython",
    "version": 3
   },
   "file_extension": ".py",
   "mimetype": "text/x-python",
   "name": "python",
   "nbconvert_exporter": "python",
   "pygments_lexer": "ipython3",
   "version": "3.6.9"
  }
 },
 "nbformat": 4,
 "nbformat_minor": 5
}
