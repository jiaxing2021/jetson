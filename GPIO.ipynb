{
 "cells": [
  {
   "cell_type": "code",
   "execution_count": 1,
   "id": "cd8d78aa",
   "metadata": {},
   "outputs": [],
   "source": [
    "import Jetson.GPIO as GPIO\n",
    "import time"
   ]
  },
  {
   "cell_type": "code",
   "execution_count": 2,
   "id": "7396243e",
   "metadata": {},
   "outputs": [],
   "source": [
    "led = 11"
   ]
  },
  {
   "cell_type": "code",
   "execution_count": 3,
   "id": "8a145fdc",
   "metadata": {},
   "outputs": [],
   "source": [
    "GPIO.setmode(GPIO.BOARD)\n",
    "GPIO.setup(led, GPIO.OUT)"
   ]
  },
  {
   "cell_type": "code",
   "execution_count": 4,
   "id": "12540da9",
   "metadata": {},
   "outputs": [],
   "source": [
    "def fun():\n",
    "    GPIO.output(led, GPIO.HIGH)\n",
    "    time.sleep(0.1)\n",
    "    GPIO.output(led, GPIO.LOW)\n",
    "    time.sleep(0.1)"
   ]
  },
  {
   "cell_type": "code",
   "execution_count": 5,
   "id": "8b7ad63a",
   "metadata": {},
   "outputs": [],
   "source": [
    "for i in range(30):\n",
    "    fun()\n",
    "GPIO.cleanup()"
   ]
  },
  {
   "cell_type": "code",
   "execution_count": null,
   "id": "f05f757d",
   "metadata": {},
   "outputs": [],
   "source": []
  },
  {
   "cell_type": "code",
   "execution_count": null,
   "id": "09ef5b90",
   "metadata": {},
   "outputs": [],
   "source": []
  }
 ],
 "metadata": {
  "kernelspec": {
   "display_name": "Python 3",
   "language": "python",
   "name": "python3"
  },
  "language_info": {
   "codemirror_mode": {
    "name": "ipython",
    "version": 3
   },
   "file_extension": ".py",
   "mimetype": "text/x-python",
   "name": "python",
   "nbconvert_exporter": "python",
   "pygments_lexer": "ipython3",
   "version": "3.6.9"
  }
 },
 "nbformat": 4,
 "nbformat_minor": 5
}
